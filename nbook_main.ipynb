{
 "cells": [
  {
   "cell_type": "code",
   "execution_count": 2,
   "id": "05b8f810",
   "metadata": {},
   "outputs": [
    {
     "name": "stdout",
     "output_type": "stream",
     "text": [
      "Opening the screen.\n",
      "C:/Apparatus/GTU/Semester2/CSE463/hw1/images/msg616135751-3269.jpg\n",
      "X coordinate is 17 and y coordinate is 349\n",
      "counter = 1\n",
      "X coordinate is 298 and y coordinate is 107\n",
      "counter = 2\n",
      "X coordinate is 472 and y coordinate is 190\n",
      "counter = 3\n",
      "X coordinate is 195 and y coordinate is 477\n",
      "counter = 4\n",
      "4 points are selected\n",
      "Size of destination image (h and w): (384, 702, 3)\n",
      "Interpolating\n"
     ]
    }
   ],
   "source": [
    "import tkinter as tk # To create the buttons and labels\n",
    "from PointSaving import *   # Saving all the points\n",
    "\n",
    "if __name__=='__main__':\n",
    "\n",
    "    root = tk.Tk()\n",
    "    root.title(\"Main Menu\")\n",
    "    root.geometry(\"600x400\")\n",
    "    \n",
    "    topTitle = tk.Label(root, text=\"Suleyman's Homography App\", bg=\"purple\", fg=\"white\", font=(\"Informal Roman\", 40))\n",
    "    topTitle.pack(ipadx=10, ipady=50)\n",
    "\n",
    "    buttonCamera = tk.Button(root, text = 'Click to get image from Webcam', font=(\"Helvetica\", 15), command = lambda : PointSaver(isWebCamMode = True ) )\n",
    "    buttonFolder = tk.Button(root, text = 'Click to get image from Folder', font=(\"Helvetica\", 15), command = lambda isWebCamMode = False : PointSaver(isWebCamMode) )\n",
    "    \n",
    "    # Set the position of button on the top of window\n",
    "    buttonCamera.pack(ipadx=10, ipady=10, padx=10, pady=15)\n",
    "    buttonFolder.pack(ipadx=10, ipady=10, padx=10, pady=15) \n",
    "\n",
    "    root.mainloop()"
   ]
  },
  {
   "cell_type": "code",
   "execution_count": null,
   "id": "5b9eddea",
   "metadata": {},
   "outputs": [],
   "source": []
  },
  {
   "cell_type": "code",
   "execution_count": null,
   "id": "8fa789b4",
   "metadata": {},
   "outputs": [],
   "source": []
  },
  {
   "cell_type": "code",
   "execution_count": null,
   "id": "2df471a3",
   "metadata": {},
   "outputs": [],
   "source": []
  },
  {
   "cell_type": "code",
   "execution_count": null,
   "id": "5a630c78",
   "metadata": {},
   "outputs": [],
   "source": []
  }
 ],
 "metadata": {
  "kernelspec": {
   "display_name": "Python 3 (ipykernel)",
   "language": "python",
   "name": "python3"
  },
  "language_info": {
   "codemirror_mode": {
    "name": "ipython",
    "version": 3
   },
   "file_extension": ".py",
   "mimetype": "text/x-python",
   "name": "python",
   "nbconvert_exporter": "python",
   "pygments_lexer": "ipython3",
   "version": "3.10.4"
  }
 },
 "nbformat": 4,
 "nbformat_minor": 5
}
