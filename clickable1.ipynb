{
 "cells": [
  {
   "cell_type": "code",
   "execution_count": 5,
   "id": "8d10776a",
   "metadata": {
    "scrolled": true
   },
   "outputs": [
    {
     "data": {
      "text/plain": [
       "<matplotlib.image.AxesImage at 0x2360823c7c0>"
      ]
     },
     "execution_count": 5,
     "metadata": {},
     "output_type": "execute_result"
    }
   ],
   "source": [
    "import cv2\n",
    "import numpy as np\n",
    "import matplotlib.pyplot as plt\n",
    " \n",
    "# To open matplotlib in interactive mode\n",
    "%matplotlib qt\n",
    " \n",
    "# Load the image\n",
    "img = cv2.imread('images/input1.png') \n",
    " \n",
    "# Create a copy of the image\n",
    "img_copy = np.copy(img)\n",
    "\n",
    "# Convert to RGB so as to display via matplotlib\n",
    "# Using Matplotlib we can easily find the coordinates\n",
    "# of the 4 points that is essential for finding the \n",
    "# transformation matrix\n",
    "img_copy = cv2.cvtColor(img_copy,cv2.COLOR_BGR2RGB)\n",
    " \n",
    "plt.imshow(img_copy)\n",
    " \n",
    "# Specify input and output coordinates that is used\n",
    "# to calculate the transformation matrix\n",
    "input_pts = np.float32([[80,1286],[3890,1253],[3890,122],[450,115]])\n",
    "output_pts = np.float32([[100,100],[100,3900],[2200,3900],[2200,100]])\n",
    "\n",
    "# Compute the perspective transform M\n",
    "M = cv2.getPerspectiveTransform(input_pts,output_pts)\n",
    "\n",
    "# Apply the perspective transformation to the image\n",
    "out = cv2.warpPerspective(img,M,(img.shape[1], img.shape[0]),flags=cv2.INTER_LINEAR)\n",
    "\n",
    "# Display the transformed image\n",
    "plt.imshow(out)\n",
    "\n"
   ]
  },
  {
   "cell_type": "code",
   "execution_count": null,
   "id": "5d9f2e64",
   "metadata": {},
   "outputs": [],
   "source": []
  },
  {
   "cell_type": "code",
   "execution_count": null,
   "id": "5d4b6bf9",
   "metadata": {},
   "outputs": [],
   "source": []
  }
 ],
 "metadata": {
  "kernelspec": {
   "display_name": "Python 3 (ipykernel)",
   "language": "python",
   "name": "python3"
  },
  "language_info": {
   "codemirror_mode": {
    "name": "ipython",
    "version": 3
   },
   "file_extension": ".py",
   "mimetype": "text/x-python",
   "name": "python",
   "nbconvert_exporter": "python",
   "pygments_lexer": "ipython3",
   "version": "3.10.2"
  }
 },
 "nbformat": 4,
 "nbformat_minor": 5
}
