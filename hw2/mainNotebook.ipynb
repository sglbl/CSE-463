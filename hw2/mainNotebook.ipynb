{
 "cells": [
  {
   "cell_type": "code",
   "execution_count": null,
   "id": "9bdd4f08",
   "metadata": {},
   "outputs": [
    {
     "name": "stdout",
     "output_type": "stream",
     "text": [
      "Opening the screen.\n",
      "C:/Apparatus/GTU/Semester2/CSE463/hw2/images/stPierre1.jpg\n",
      "C:/Apparatus/GTU/Semester2/CSE463/hw2/images/stPierre2.jpg\n",
      "Both images are selected\n",
      "C:/Apparatus/GTU/Semester2/CSE463/hw2/images/stPierre2.jpg\n",
      "Both images are selected\n"
     ]
    }
   ],
   "source": [
    "import tkinter as tk # To create the buttons and labels\n",
    "import ImageSelecting   # Saving all the points\n",
    "\n",
    "if __name__=='__main__':\n",
    "\n",
    "    imageSelector = ImageSelecting.ImageSelector()\n",
    "    rootWidget = tk.Tk()\n",
    "    rootWidget.title(\"Main Menu\")\n",
    "    rootWidget.geometry(\"650x400\")\n",
    "    \n",
    "    topTitle = tk.Label(rootWidget, text=\"Suleyman's Object Detection App\", bg=\"purple\", fg=\"white\", font=(\"Informal Roman\", 40))\n",
    "    topTitle.pack(ipadx=10, ipady=50)\n",
    "\n",
    "    buttonImage1 = tk.Button( rootWidget, text = 'Click to get image 1', font=(\"Helvetica\", 15), \n",
    "                              command = lambda : imageSelector.selector(1) )\n",
    "    buttonImage2 = tk.Button( rootWidget, text = 'Click to get image 2 to match', font=(\"Helvetica\", 15), \n",
    "                              command = lambda : imageSelector.selector(2) )\n",
    "\n",
    "    # Set the position of button on the top of window\n",
    "    buttonImage1.pack(ipadx=10, ipady=10, padx=10, pady=15)\n",
    "    buttonImage2.pack(ipadx=10, ipady=10, padx=10, pady=15) \n",
    "\n",
    "    rootWidget.mainloop()"
   ]
  },
  {
   "cell_type": "code",
   "execution_count": null,
   "id": "6f11a1cc",
   "metadata": {},
   "outputs": [],
   "source": []
  }
 ],
 "metadata": {
  "kernelspec": {
   "display_name": "Python 3 (ipykernel)",
   "language": "python",
   "name": "python3"
  },
  "language_info": {
   "codemirror_mode": {
    "name": "ipython",
    "version": 3
   },
   "file_extension": ".py",
   "mimetype": "text/x-python",
   "name": "python",
   "nbconvert_exporter": "python",
   "pygments_lexer": "ipython3",
   "version": "3.10.4"
  }
 },
 "nbformat": 4,
 "nbformat_minor": 5
}
